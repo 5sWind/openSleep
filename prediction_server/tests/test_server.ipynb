{
 "cells": [
  {
   "cell_type": "code",
   "execution_count": 22,
   "metadata": {},
   "outputs": [],
   "source": [
    "import requests\n",
    "\n",
    "#URL = 'http://localhost:5000/'\n",
    "URL = 'http://68.183.114.149:5000/'"
   ]
  },
  {
   "cell_type": "code",
   "execution_count": 30,
   "metadata": {},
   "outputs": [
    {
     "name": "stdout",
     "output_type": "stream",
     "text": [
      "200\n",
      "{'status': 0}\n"
     ]
    }
   ],
   "source": [
    "# init\n",
    "r = requests.get(URL + 'init')\n",
    "print(r.status_code)\n",
    "print(r.json())"
   ]
  },
  {
   "cell_type": "code",
   "execution_count": 24,
   "metadata": {},
   "outputs": [],
   "source": [
    "import numpy as np\n",
    "import scipy.signal\n",
    "\n",
    "\n",
    "def read_data(filename):\n",
    "    with open(filename, 'r') as f:\n",
    "        rows = f.read().split('|')[4:]\n",
    "    \n",
    "    ret = {\n",
    "        'flex' : [],\n",
    "        'ecg' : [],\n",
    "        'eda' : []\n",
    "    }\n",
    "    for i in range(len(rows)):\n",
    "        x = [int(val) for val in rows[i].split(',')]\n",
    "        ret['flex'].append(x[0])\n",
    "        ret['ecg'].append(x[1])\n",
    "        ret['eda'].append(x[2])\n",
    "        \n",
    "    return ret"
   ]
  },
  {
   "cell_type": "code",
   "execution_count": 26,
   "metadata": {},
   "outputs": [
    {
     "name": "stdout",
     "output_type": "stream",
     "text": [
      "200\n",
      "{'status': 0}\n"
     ]
    }
   ],
   "source": [
    "# upload_train_data\n",
    "json = read_data('maggieawake2')\n",
    "r = requests.post(URL + 'upload', json=json)\n",
    "print(r.status_code)\n",
    "print(r.json())"
   ]
  },
  {
   "cell_type": "code",
   "execution_count": 27,
   "metadata": {},
   "outputs": [
    {
     "name": "stdout",
     "output_type": "stream",
     "text": [
      "200\n",
      "{'time': 0.2460782527923584, 'status': 0}\n"
     ]
    }
   ],
   "source": [
    "# train\n",
    "r = requests.get(URL + 'train')\n",
    "print(r.status_code)\n",
    "print(r.json())"
   ]
  },
  {
   "cell_type": "code",
   "execution_count": 28,
   "metadata": {},
   "outputs": [
    {
     "name": "stdout",
     "output_type": "stream",
     "text": [
      "200\n",
      "{'status': 0}\n"
     ]
    }
   ],
   "source": [
    "# upload more data\n",
    "json = read_data('maggieasleep')\n",
    "r = requests.post(URL + 'upload', json=json)\n",
    "print(r.status_code)\n",
    "print(r.json())"
   ]
  },
  {
   "cell_type": "code",
   "execution_count": 29,
   "metadata": {},
   "outputs": [
    {
     "name": "stdout",
     "output_type": "stream",
     "text": [
      "200\n",
      "{'sleep': [1.0, 1.0, 1.0, 1.0, 1.0, 1.0, 1.0, 1.0, 1.0, 1.0, 1.0, 1.0, 1.0, 1.0, 1.0, 1.0, 1.0, 1.0, 1.0, 1.0, 1.0, 1.0, 1.0, 1.0, 1.0, 1.0, 1.0, 1.0, 1.0, 1.0, 1.0, 1.0, 1.0, 1.0, 1.0, 1.0, 1.0, 1.0, 1.0, 1.0, 1.0, 1.0, 1.0, 1.0, 1.0, 1.0], 'mean_sleep': 1.0, 'time': 0.17219877243041992}\n"
     ]
    }
   ],
   "source": [
    "# predict\n",
    "r = requests.get(URL + 'predict')\n",
    "print(r.status_code)\n",
    "print(r.json())"
   ]
  },
  {
   "cell_type": "code",
   "execution_count": null,
   "metadata": {},
   "outputs": [],
   "source": []
  }
 ],
 "metadata": {
  "kernelspec": {
   "display_name": "Python 3",
   "language": "python",
   "name": "python3"
  },
  "language_info": {
   "codemirror_mode": {
    "name": "ipython",
    "version": 3
   },
   "file_extension": ".py",
   "mimetype": "text/x-python",
   "name": "python",
   "nbconvert_exporter": "python",
   "pygments_lexer": "ipython3",
   "version": "3.5.2"
  }
 },
 "nbformat": 4,
 "nbformat_minor": 2
}
