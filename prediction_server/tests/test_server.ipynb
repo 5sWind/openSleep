{
 "cells": [
  {
   "cell_type": "code",
   "execution_count": 29,
   "metadata": {},
   "outputs": [],
   "source": [
    "import requests\n",
    "\n",
    "URL = 'http://localhost:5000/'\n",
    "#URL = 'http://68.183.114.149:5000/'"
   ]
  },
  {
   "cell_type": "code",
   "execution_count": 40,
   "metadata": {},
   "outputs": [
    {
     "name": "stdout",
     "output_type": "stream",
     "text": [
      "500\n"
     ]
    },
    {
     "ename": "JSONDecodeError",
     "evalue": "Expecting value: line 1 column 1 (char 0)",
     "output_type": "error",
     "traceback": [
      "\u001b[0;31m---------------------------------------------------------------------------\u001b[0m",
      "\u001b[0;31mJSONDecodeError\u001b[0m                           Traceback (most recent call last)",
      "\u001b[0;32m<ipython-input-40-421c363ce790>\u001b[0m in \u001b[0;36m<module>\u001b[0;34m()\u001b[0m\n\u001b[1;32m      2\u001b[0m \u001b[0mr\u001b[0m \u001b[0;34m=\u001b[0m \u001b[0mrequests\u001b[0m\u001b[0;34m.\u001b[0m\u001b[0mget\u001b[0m\u001b[0;34m(\u001b[0m\u001b[0mURL\u001b[0m \u001b[0;34m+\u001b[0m \u001b[0;34m'init'\u001b[0m\u001b[0;34m)\u001b[0m\u001b[0;34m\u001b[0m\u001b[0m\n\u001b[1;32m      3\u001b[0m \u001b[0mprint\u001b[0m\u001b[0;34m(\u001b[0m\u001b[0mr\u001b[0m\u001b[0;34m.\u001b[0m\u001b[0mstatus_code\u001b[0m\u001b[0;34m)\u001b[0m\u001b[0;34m\u001b[0m\u001b[0m\n\u001b[0;32m----> 4\u001b[0;31m \u001b[0mprint\u001b[0m\u001b[0;34m(\u001b[0m\u001b[0mr\u001b[0m\u001b[0;34m.\u001b[0m\u001b[0mjson\u001b[0m\u001b[0;34m(\u001b[0m\u001b[0;34m)\u001b[0m\u001b[0;34m)\u001b[0m\u001b[0;34m\u001b[0m\u001b[0m\n\u001b[0m",
      "\u001b[0;32m/usr/local/lib/python3.5/dist-packages/requests/models.py\u001b[0m in \u001b[0;36mjson\u001b[0;34m(self, **kwargs)\u001b[0m\n\u001b[1;32m    894\u001b[0m                     \u001b[0;31m# used.\u001b[0m\u001b[0;34m\u001b[0m\u001b[0;34m\u001b[0m\u001b[0m\n\u001b[1;32m    895\u001b[0m                     \u001b[0;32mpass\u001b[0m\u001b[0;34m\u001b[0m\u001b[0m\n\u001b[0;32m--> 896\u001b[0;31m         \u001b[0;32mreturn\u001b[0m \u001b[0mcomplexjson\u001b[0m\u001b[0;34m.\u001b[0m\u001b[0mloads\u001b[0m\u001b[0;34m(\u001b[0m\u001b[0mself\u001b[0m\u001b[0;34m.\u001b[0m\u001b[0mtext\u001b[0m\u001b[0;34m,\u001b[0m \u001b[0;34m**\u001b[0m\u001b[0mkwargs\u001b[0m\u001b[0;34m)\u001b[0m\u001b[0;34m\u001b[0m\u001b[0m\n\u001b[0m\u001b[1;32m    897\u001b[0m \u001b[0;34m\u001b[0m\u001b[0m\n\u001b[1;32m    898\u001b[0m     \u001b[0;34m@\u001b[0m\u001b[0mproperty\u001b[0m\u001b[0;34m\u001b[0m\u001b[0m\n",
      "\u001b[0;32m/usr/lib/python3/dist-packages/simplejson/__init__.py\u001b[0m in \u001b[0;36mloads\u001b[0;34m(s, encoding, cls, object_hook, parse_float, parse_int, parse_constant, object_pairs_hook, use_decimal, **kw)\u001b[0m\n\u001b[1;32m    514\u001b[0m             \u001b[0mparse_constant\u001b[0m \u001b[0;32mis\u001b[0m \u001b[0;32mNone\u001b[0m \u001b[0;32mand\u001b[0m \u001b[0mobject_pairs_hook\u001b[0m \u001b[0;32mis\u001b[0m \u001b[0;32mNone\u001b[0m\u001b[0;34m\u001b[0m\u001b[0m\n\u001b[1;32m    515\u001b[0m             and not use_decimal and not kw):\n\u001b[0;32m--> 516\u001b[0;31m         \u001b[0;32mreturn\u001b[0m \u001b[0m_default_decoder\u001b[0m\u001b[0;34m.\u001b[0m\u001b[0mdecode\u001b[0m\u001b[0;34m(\u001b[0m\u001b[0ms\u001b[0m\u001b[0;34m)\u001b[0m\u001b[0;34m\u001b[0m\u001b[0m\n\u001b[0m\u001b[1;32m    517\u001b[0m     \u001b[0;32mif\u001b[0m \u001b[0mcls\u001b[0m \u001b[0;32mis\u001b[0m \u001b[0;32mNone\u001b[0m\u001b[0;34m:\u001b[0m\u001b[0;34m\u001b[0m\u001b[0m\n\u001b[1;32m    518\u001b[0m         \u001b[0mcls\u001b[0m \u001b[0;34m=\u001b[0m \u001b[0mJSONDecoder\u001b[0m\u001b[0;34m\u001b[0m\u001b[0m\n",
      "\u001b[0;32m/usr/lib/python3/dist-packages/simplejson/decoder.py\u001b[0m in \u001b[0;36mdecode\u001b[0;34m(self, s, _w, _PY3)\u001b[0m\n\u001b[1;32m    368\u001b[0m         \u001b[0;32mif\u001b[0m \u001b[0m_PY3\u001b[0m \u001b[0;32mand\u001b[0m \u001b[0misinstance\u001b[0m\u001b[0;34m(\u001b[0m\u001b[0ms\u001b[0m\u001b[0;34m,\u001b[0m \u001b[0mbinary_type\u001b[0m\u001b[0;34m)\u001b[0m\u001b[0;34m:\u001b[0m\u001b[0;34m\u001b[0m\u001b[0m\n\u001b[1;32m    369\u001b[0m             \u001b[0ms\u001b[0m \u001b[0;34m=\u001b[0m \u001b[0ms\u001b[0m\u001b[0;34m.\u001b[0m\u001b[0mdecode\u001b[0m\u001b[0;34m(\u001b[0m\u001b[0mself\u001b[0m\u001b[0;34m.\u001b[0m\u001b[0mencoding\u001b[0m\u001b[0;34m)\u001b[0m\u001b[0;34m\u001b[0m\u001b[0m\n\u001b[0;32m--> 370\u001b[0;31m         \u001b[0mobj\u001b[0m\u001b[0;34m,\u001b[0m \u001b[0mend\u001b[0m \u001b[0;34m=\u001b[0m \u001b[0mself\u001b[0m\u001b[0;34m.\u001b[0m\u001b[0mraw_decode\u001b[0m\u001b[0;34m(\u001b[0m\u001b[0ms\u001b[0m\u001b[0;34m)\u001b[0m\u001b[0;34m\u001b[0m\u001b[0m\n\u001b[0m\u001b[1;32m    371\u001b[0m         \u001b[0mend\u001b[0m \u001b[0;34m=\u001b[0m \u001b[0m_w\u001b[0m\u001b[0;34m(\u001b[0m\u001b[0ms\u001b[0m\u001b[0;34m,\u001b[0m \u001b[0mend\u001b[0m\u001b[0;34m)\u001b[0m\u001b[0;34m.\u001b[0m\u001b[0mend\u001b[0m\u001b[0;34m(\u001b[0m\u001b[0;34m)\u001b[0m\u001b[0;34m\u001b[0m\u001b[0m\n\u001b[1;32m    372\u001b[0m         \u001b[0;32mif\u001b[0m \u001b[0mend\u001b[0m \u001b[0;34m!=\u001b[0m \u001b[0mlen\u001b[0m\u001b[0;34m(\u001b[0m\u001b[0ms\u001b[0m\u001b[0;34m)\u001b[0m\u001b[0;34m:\u001b[0m\u001b[0;34m\u001b[0m\u001b[0m\n",
      "\u001b[0;32m/usr/lib/python3/dist-packages/simplejson/decoder.py\u001b[0m in \u001b[0;36mraw_decode\u001b[0;34m(self, s, idx, _w, _PY3)\u001b[0m\n\u001b[1;32m    398\u001b[0m             \u001b[0;32melif\u001b[0m \u001b[0mord0\u001b[0m \u001b[0;34m==\u001b[0m \u001b[0;36m0xef\u001b[0m \u001b[0;32mand\u001b[0m \u001b[0ms\u001b[0m\u001b[0;34m[\u001b[0m\u001b[0midx\u001b[0m\u001b[0;34m:\u001b[0m\u001b[0midx\u001b[0m \u001b[0;34m+\u001b[0m \u001b[0;36m3\u001b[0m\u001b[0;34m]\u001b[0m \u001b[0;34m==\u001b[0m \u001b[0;34m'\\xef\\xbb\\xbf'\u001b[0m\u001b[0;34m:\u001b[0m\u001b[0;34m\u001b[0m\u001b[0m\n\u001b[1;32m    399\u001b[0m                 \u001b[0midx\u001b[0m \u001b[0;34m+=\u001b[0m \u001b[0;36m3\u001b[0m\u001b[0;34m\u001b[0m\u001b[0m\n\u001b[0;32m--> 400\u001b[0;31m         \u001b[0;32mreturn\u001b[0m \u001b[0mself\u001b[0m\u001b[0;34m.\u001b[0m\u001b[0mscan_once\u001b[0m\u001b[0;34m(\u001b[0m\u001b[0ms\u001b[0m\u001b[0;34m,\u001b[0m \u001b[0midx\u001b[0m\u001b[0;34m=\u001b[0m\u001b[0m_w\u001b[0m\u001b[0;34m(\u001b[0m\u001b[0ms\u001b[0m\u001b[0;34m,\u001b[0m \u001b[0midx\u001b[0m\u001b[0;34m)\u001b[0m\u001b[0;34m.\u001b[0m\u001b[0mend\u001b[0m\u001b[0;34m(\u001b[0m\u001b[0;34m)\u001b[0m\u001b[0;34m)\u001b[0m\u001b[0;34m\u001b[0m\u001b[0m\n\u001b[0m",
      "\u001b[0;31mJSONDecodeError\u001b[0m: Expecting value: line 1 column 1 (char 0)"
     ]
    }
   ],
   "source": [
    "# init\n",
    "r = requests.get(URL + 'init')\n",
    "print(r.status_code)\n",
    "print(r.json())"
   ]
  },
  {
   "cell_type": "code",
   "execution_count": 31,
   "metadata": {},
   "outputs": [],
   "source": [
    "import numpy as np\n",
    "import scipy.signal\n",
    "\n",
    "\n",
    "def read_data(filename):\n",
    "    with open(filename, 'r') as f:\n",
    "        rows = f.read().split('|')[4:]\n",
    "    \n",
    "    ret = {\n",
    "        'flex' : [],\n",
    "        'ecg' : [],\n",
    "        'eda' : []\n",
    "    }\n",
    "    for i in range(len(rows)):\n",
    "        x = [int(val) for val in rows[i].split(',')]\n",
    "        ret['flex'].append(x[0])\n",
    "        ret['ecg'].append(x[1])\n",
    "        ret['eda'].append(x[2])\n",
    "        \n",
    "    return ret"
   ]
  },
  {
   "cell_type": "code",
   "execution_count": 32,
   "metadata": {},
   "outputs": [
    {
     "name": "stdout",
     "output_type": "stream",
     "text": [
      "200\n",
      "{'status': 0}\n"
     ]
    }
   ],
   "source": [
    "# upload_train_data\n",
    "json = read_data('maggieawake2')\n",
    "r = requests.post(URL + 'upload', json=json)\n",
    "print(r.status_code)\n",
    "print(r.json())"
   ]
  },
  {
   "cell_type": "code",
   "execution_count": 26,
   "metadata": {},
   "outputs": [
    {
     "name": "stdout",
     "output_type": "stream",
     "text": [
      "200\n",
      "{'time': 0.2411489486694336, 'status': 0}\n"
     ]
    }
   ],
   "source": [
    "# train\n",
    "r = requests.get(URL + 'train')\n",
    "print(r.status_code)\n",
    "print(r.json())"
   ]
  },
  {
   "cell_type": "code",
   "execution_count": 27,
   "metadata": {},
   "outputs": [
    {
     "name": "stdout",
     "output_type": "stream",
     "text": [
      "200\n",
      "{'status': 0}\n"
     ]
    }
   ],
   "source": [
    "# upload more data\n",
    "json = read_data('maggieasleep')\n",
    "r = requests.post(URL + 'upload', json=json)\n",
    "print(r.status_code)\n",
    "print(r.json())"
   ]
  },
  {
   "cell_type": "code",
   "execution_count": 39,
   "metadata": {},
   "outputs": [
    {
     "name": "stdout",
     "output_type": "stream",
     "text": [
      "500\n"
     ]
    },
    {
     "ename": "JSONDecodeError",
     "evalue": "Expecting value: line 1 column 1 (char 0)",
     "output_type": "error",
     "traceback": [
      "\u001b[0;31m---------------------------------------------------------------------------\u001b[0m",
      "\u001b[0;31mJSONDecodeError\u001b[0m                           Traceback (most recent call last)",
      "\u001b[0;32m<ipython-input-39-fd85a7703400>\u001b[0m in \u001b[0;36m<module>\u001b[0;34m()\u001b[0m\n\u001b[1;32m     10\u001b[0m \u001b[0mr\u001b[0m \u001b[0;34m=\u001b[0m \u001b[0mrequests\u001b[0m\u001b[0;34m.\u001b[0m\u001b[0mpost\u001b[0m\u001b[0;34m(\u001b[0m\u001b[0mURL\u001b[0m \u001b[0;34m+\u001b[0m \u001b[0;34m'predict'\u001b[0m\u001b[0;34m,\u001b[0m \u001b[0mjson\u001b[0m\u001b[0;34m=\u001b[0m\u001b[0mjson\u001b[0m\u001b[0;34m)\u001b[0m\u001b[0;34m\u001b[0m\u001b[0m\n\u001b[1;32m     11\u001b[0m \u001b[0mprint\u001b[0m\u001b[0;34m(\u001b[0m\u001b[0mr\u001b[0m\u001b[0;34m.\u001b[0m\u001b[0mstatus_code\u001b[0m\u001b[0;34m)\u001b[0m\u001b[0;34m\u001b[0m\u001b[0m\n\u001b[0;32m---> 12\u001b[0;31m \u001b[0mprint\u001b[0m\u001b[0;34m(\u001b[0m\u001b[0mr\u001b[0m\u001b[0;34m.\u001b[0m\u001b[0mjson\u001b[0m\u001b[0;34m(\u001b[0m\u001b[0;34m)\u001b[0m\u001b[0;34m)\u001b[0m\u001b[0;34m\u001b[0m\u001b[0m\n\u001b[0m",
      "\u001b[0;32m/usr/local/lib/python3.5/dist-packages/requests/models.py\u001b[0m in \u001b[0;36mjson\u001b[0;34m(self, **kwargs)\u001b[0m\n\u001b[1;32m    894\u001b[0m                     \u001b[0;31m# used.\u001b[0m\u001b[0;34m\u001b[0m\u001b[0;34m\u001b[0m\u001b[0m\n\u001b[1;32m    895\u001b[0m                     \u001b[0;32mpass\u001b[0m\u001b[0;34m\u001b[0m\u001b[0m\n\u001b[0;32m--> 896\u001b[0;31m         \u001b[0;32mreturn\u001b[0m \u001b[0mcomplexjson\u001b[0m\u001b[0;34m.\u001b[0m\u001b[0mloads\u001b[0m\u001b[0;34m(\u001b[0m\u001b[0mself\u001b[0m\u001b[0;34m.\u001b[0m\u001b[0mtext\u001b[0m\u001b[0;34m,\u001b[0m \u001b[0;34m**\u001b[0m\u001b[0mkwargs\u001b[0m\u001b[0;34m)\u001b[0m\u001b[0;34m\u001b[0m\u001b[0m\n\u001b[0m\u001b[1;32m    897\u001b[0m \u001b[0;34m\u001b[0m\u001b[0m\n\u001b[1;32m    898\u001b[0m     \u001b[0;34m@\u001b[0m\u001b[0mproperty\u001b[0m\u001b[0;34m\u001b[0m\u001b[0m\n",
      "\u001b[0;32m/usr/lib/python3/dist-packages/simplejson/__init__.py\u001b[0m in \u001b[0;36mloads\u001b[0;34m(s, encoding, cls, object_hook, parse_float, parse_int, parse_constant, object_pairs_hook, use_decimal, **kw)\u001b[0m\n\u001b[1;32m    514\u001b[0m             \u001b[0mparse_constant\u001b[0m \u001b[0;32mis\u001b[0m \u001b[0;32mNone\u001b[0m \u001b[0;32mand\u001b[0m \u001b[0mobject_pairs_hook\u001b[0m \u001b[0;32mis\u001b[0m \u001b[0;32mNone\u001b[0m\u001b[0;34m\u001b[0m\u001b[0m\n\u001b[1;32m    515\u001b[0m             and not use_decimal and not kw):\n\u001b[0;32m--> 516\u001b[0;31m         \u001b[0;32mreturn\u001b[0m \u001b[0m_default_decoder\u001b[0m\u001b[0;34m.\u001b[0m\u001b[0mdecode\u001b[0m\u001b[0;34m(\u001b[0m\u001b[0ms\u001b[0m\u001b[0;34m)\u001b[0m\u001b[0;34m\u001b[0m\u001b[0m\n\u001b[0m\u001b[1;32m    517\u001b[0m     \u001b[0;32mif\u001b[0m \u001b[0mcls\u001b[0m \u001b[0;32mis\u001b[0m \u001b[0;32mNone\u001b[0m\u001b[0;34m:\u001b[0m\u001b[0;34m\u001b[0m\u001b[0m\n\u001b[1;32m    518\u001b[0m         \u001b[0mcls\u001b[0m \u001b[0;34m=\u001b[0m \u001b[0mJSONDecoder\u001b[0m\u001b[0;34m\u001b[0m\u001b[0m\n",
      "\u001b[0;32m/usr/lib/python3/dist-packages/simplejson/decoder.py\u001b[0m in \u001b[0;36mdecode\u001b[0;34m(self, s, _w, _PY3)\u001b[0m\n\u001b[1;32m    368\u001b[0m         \u001b[0;32mif\u001b[0m \u001b[0m_PY3\u001b[0m \u001b[0;32mand\u001b[0m \u001b[0misinstance\u001b[0m\u001b[0;34m(\u001b[0m\u001b[0ms\u001b[0m\u001b[0;34m,\u001b[0m \u001b[0mbinary_type\u001b[0m\u001b[0;34m)\u001b[0m\u001b[0;34m:\u001b[0m\u001b[0;34m\u001b[0m\u001b[0m\n\u001b[1;32m    369\u001b[0m             \u001b[0ms\u001b[0m \u001b[0;34m=\u001b[0m \u001b[0ms\u001b[0m\u001b[0;34m.\u001b[0m\u001b[0mdecode\u001b[0m\u001b[0;34m(\u001b[0m\u001b[0mself\u001b[0m\u001b[0;34m.\u001b[0m\u001b[0mencoding\u001b[0m\u001b[0;34m)\u001b[0m\u001b[0;34m\u001b[0m\u001b[0m\n\u001b[0;32m--> 370\u001b[0;31m         \u001b[0mobj\u001b[0m\u001b[0;34m,\u001b[0m \u001b[0mend\u001b[0m \u001b[0;34m=\u001b[0m \u001b[0mself\u001b[0m\u001b[0;34m.\u001b[0m\u001b[0mraw_decode\u001b[0m\u001b[0;34m(\u001b[0m\u001b[0ms\u001b[0m\u001b[0;34m)\u001b[0m\u001b[0;34m\u001b[0m\u001b[0m\n\u001b[0m\u001b[1;32m    371\u001b[0m         \u001b[0mend\u001b[0m \u001b[0;34m=\u001b[0m \u001b[0m_w\u001b[0m\u001b[0;34m(\u001b[0m\u001b[0ms\u001b[0m\u001b[0;34m,\u001b[0m \u001b[0mend\u001b[0m\u001b[0;34m)\u001b[0m\u001b[0;34m.\u001b[0m\u001b[0mend\u001b[0m\u001b[0;34m(\u001b[0m\u001b[0;34m)\u001b[0m\u001b[0;34m\u001b[0m\u001b[0m\n\u001b[1;32m    372\u001b[0m         \u001b[0;32mif\u001b[0m \u001b[0mend\u001b[0m \u001b[0;34m!=\u001b[0m \u001b[0mlen\u001b[0m\u001b[0;34m(\u001b[0m\u001b[0ms\u001b[0m\u001b[0;34m)\u001b[0m\u001b[0;34m:\u001b[0m\u001b[0;34m\u001b[0m\u001b[0m\n",
      "\u001b[0;32m/usr/lib/python3/dist-packages/simplejson/decoder.py\u001b[0m in \u001b[0;36mraw_decode\u001b[0;34m(self, s, idx, _w, _PY3)\u001b[0m\n\u001b[1;32m    398\u001b[0m             \u001b[0;32melif\u001b[0m \u001b[0mord0\u001b[0m \u001b[0;34m==\u001b[0m \u001b[0;36m0xef\u001b[0m \u001b[0;32mand\u001b[0m \u001b[0ms\u001b[0m\u001b[0;34m[\u001b[0m\u001b[0midx\u001b[0m\u001b[0;34m:\u001b[0m\u001b[0midx\u001b[0m \u001b[0;34m+\u001b[0m \u001b[0;36m3\u001b[0m\u001b[0;34m]\u001b[0m \u001b[0;34m==\u001b[0m \u001b[0;34m'\\xef\\xbb\\xbf'\u001b[0m\u001b[0;34m:\u001b[0m\u001b[0;34m\u001b[0m\u001b[0m\n\u001b[1;32m    399\u001b[0m                 \u001b[0midx\u001b[0m \u001b[0;34m+=\u001b[0m \u001b[0;36m3\u001b[0m\u001b[0;34m\u001b[0m\u001b[0m\n\u001b[0;32m--> 400\u001b[0;31m         \u001b[0;32mreturn\u001b[0m \u001b[0mself\u001b[0m\u001b[0;34m.\u001b[0m\u001b[0mscan_once\u001b[0m\u001b[0;34m(\u001b[0m\u001b[0ms\u001b[0m\u001b[0;34m,\u001b[0m \u001b[0midx\u001b[0m\u001b[0;34m=\u001b[0m\u001b[0m_w\u001b[0m\u001b[0;34m(\u001b[0m\u001b[0ms\u001b[0m\u001b[0;34m,\u001b[0m \u001b[0midx\u001b[0m\u001b[0;34m)\u001b[0m\u001b[0;34m.\u001b[0m\u001b[0mend\u001b[0m\u001b[0;34m(\u001b[0m\u001b[0;34m)\u001b[0m\u001b[0;34m)\u001b[0m\u001b[0;34m\u001b[0m\u001b[0m\n\u001b[0m",
      "\u001b[0;31mJSONDecodeError\u001b[0m: Expecting value: line 1 column 1 (char 0)"
     ]
    }
   ],
   "source": [
    "# predict\n",
    "json = {\n",
    "    'feature_importance' : {\n",
    "        'ecg' : 0.3,\n",
    "        'eda' : 0.3,\n",
    "        'flex' : 0.4\n",
    "    }\n",
    "}\n",
    "\n",
    "r = requests.post(URL + 'predict', json=json)\n",
    "print(r.status_code)\n",
    "print(r.json())"
   ]
  },
  {
   "cell_type": "code",
   "execution_count": 34,
   "metadata": {},
   "outputs": [
    {
     "name": "stdout",
     "output_type": "stream",
     "text": [
      "200\n",
      "||||231,526,47|231,841,47|231,552,47|231,420,47|231,459,47|231,400,47|231,403,47|231,834,47|231,677,47|231,423,47|231,463,47|231,412,47|231,379,47|231,760,47|231,764,47|231,453,47|230,470,47|230,477,47|231,376,47|231,609,47|231,865,47|231,522,47|231,414,47|231,446,47|231,375,47|231,414,47|231,893,47|231,691,47|231,406,47|231,441,47|231,391,47|231,342,47|231,594,47|231,878,47|231,537,47|231,404,46|231,425,46|231,356,46|231,354,46|231,839,46|231,753,46|231,416,46|231,438,46|231,397,46|231,341,46|231,481,46|231,929,46|231,621,46|231,395,46|231,438,46|231,362,46|231,335,46|231,546,46|231,913,46|231,579,46|231,396,46|231,429,46|231,356,46|231,333,46|231,559,46|231,904,46|231,559,46|231,390,46|231,423,46|231,350,46|231,335,46|231,627,46|231,860,46|231,502,46|231,404,46|231,414,46|231,345,46|231,344,46|231,818,46|231,783,46|231,433,46|231,424,46|231,395,46|231,340,46|231,393,46|231,929,46|231,713,45|231,405,45|231,444,45|231,377,45|231,339,45|231,419,45|231,946,45|231,680,45|231,397,45|231,440,45|231,370,45|231,328,45|231,348,45|231,419,45|231,924,45|231,671,45|231,424,45|231,462,45|231,401,45|231,355,45|231,396,45|231,895,45|231,712,45|231,414,45|231,461,45|231,405,45|231,366,45|231,481,45|231,954,45|231,634,45|231,418,45|231,461,45|231,389,45|231,358,45|231,878,45|231,868,45|231,420,45|231,393,45|231,430,45|231,361,45|231,777,45|231,868,45|231,429,45|231,382,45|231,405,45|231,333,45|231,740,45|231,903,45|231,439,45|231,376,45|231,398,45|230,331,45|230,876,45|230,955,45|231,436,45|231,317,45|231,370,44|231,301,44|231,709,44|231,955,44|231,455,44|230,314,44|230,349,44|231,303,44|232,614,44|231,864,44|231,449,44|231,314,44|233,413,44|232,258,44|233,544,44|232,905,44|232,525,44|232,347,44|232,386,44|232,345,44|232,509,44|232,930,44|232,549,44|232,334,44|232,362,44|232,300,44|232,346,44|232,901,44|232,650,44|232,323,44|232,372,44|232,347,44|232,305,44|232,702,44|232,779,44|232,395,44|232,374,44|232,386,44|232,333,44|232,535,44|232,877,44|232,502,44|232,374,44|232,421,44|232,359,44|232,418,44|232,906,44|232,624,44|232,374,44|232,432,44|232,381,44|232,350,44|232,802,44|232,749,44|232,396,44|232,418,44|232,413,44|232,358,44|232,601,44|232,863,44|232,470,44|232,402,44|232,436,44|232,371,44|232,449,44|232,899,44|232,563,44|232,376,44|232,447,44|232,388,44|232,389,44|232,873,44|232,715,44|232,387,44|232,439,44|232,411,44|232,364,44|232,545,44|232,923,44|232,539,44|232,396,43|232,445,43|232,379,43|232,367,43|232,840,44|232,752,43|232,400,43|232,445,43|232,420,43|232,359,43|232,520,43|232,933,43|232,548,43|232,386,43|232,448,43|232,380,43|232,351,43|232,791,43|232,809,43|232,402,43|232,424,43|232,419,43|232,346,43|232,439,43|232,946,43|232,593,43|232,369,43|232,450,43|232,382,43|232,346,43|232,783,43|232,843,43|232,416,43|232,403,43|232,409,43|232,345,43|232,390,43|232,952,43|232,684,43|232,350,43|232,434,43|232,385,43|232,333,43|232,499,43|232,954,43|232,552,43|232,351,43|232,434,43|232,362,43|232,333,43|232,615,43|232,908,43|232,474,43|232,372,43|232,424,43|232,350,43|232,333,43|232,797,43|232,799,43|232,378,43|232,412,43|232,412,43|232,344,43|232,419,43|232,954,43|232,671,43|232,354,43|232,439,43|232,379,42|232,332,43|232,565,42|232,954,42|232,581,42|232,363,42|232,439,42|232,362,42|232,332,42|232,671,42|232,954,42|232,522,42|232,369,42|232,430,42|232,345,42|232,322,42|232,799,42|232,954,42|232,445,42|232,372,42|232,416,42|232,323,42|232,317,42|232,864,42|232,923,42|232,397,42|232,404,42|232,408,42|232,331,42|232,393,42|232,954,42|232,769,42|232,339,42|232,425,42|232,377,42|232,305,42|232,506,42|232,954,42|232,660,42|232,318,42|232,426,42|232,340,42|232,303,42|232,635,42|232,954,42|232,581,42|232,317,42|232,410,42|232,317,42|232,293,42|232,657,42|232,955,42|232,545,42|232,311,42|231,428,42|231,357,42|231,317,42|231,785,42|231,954,42|231,474,42|231,368,42|231,405,42|231,311,42|231,324,42|231,937,42|231,936,42|231,368,42|231,379,42|231,377,42|231,298,42|231,341,42|231,954,42|231,670,42|231,226,41|231,345,41|231,395,41|234,401,41|234,622,42|233,897,42|232,450,42|232,343,41|232,401,41|233,361,41|233,379,42|233,954,42|233,954,42|232,323,42|232,373,42|232,403,42|232,308,42|233,511,42|233,954,42|233,514,42|233,324,42|233,437,42|233,365,42|233,363,42|233,954,42|233,809,42|233,342,42|233,413,42|233,383,42|233,330,42|233,725,42|233,954,42|233,482,42|233,328,42|233,411,42|233,317,42|233,376,42|233,954,42|233,742,42|233,300,42|233,406,42|233,363,42|233,305,42|233,801,42|233,938,42|233,390,42|233,375,42|233,407,42|233,327,42|233,538,42|233,955,42|233,595,42|233,319,42|233,427,42|233,345,42|233,345,42|233,954,42|233,900,42|233,334,41|233,395,42|233,380,41|233,307,41|233,648,42|233,955,42|233,538,41|233,317,41|233,408,41|233,319,41|233,311,41|233,953,41|233,894,41|233,332,41|233,389,41|233,376,41|233,300,41|233,452,41|233,955,41|233,636,41|233,312,41|233,426,41|233,339,41|233,316,41|233,823,41|233,955,41|233,419,41|233,352,41|233,394,41|233,306,41|233,342,41|233,954,41|233,853,41|233,322,41|233,392,41|233,367,41|233,297,41|233,448,41|233,955,41|233,673,41|233,305,41|233,422,41|233,345,41|233,298,41|233,662,41|233,955,41|233,505,41|233,346,41|233,412,41|233,330,41|233,335,41|233,955,41|233,955,41|233,352,41|233,403,41|233,382,41|233,312,41|233,449,41|233,955,41|233,902,41|233,298,41|233,408,41|233,338,41|233,295,41|233,418,41|233,955,41|233,955,41|233,317,41|233,393,41|233,340,41|233,277,41|233,339,41|233,955,41|233,955,41|233,347,40|233,373,40|233,367,40|233,278,40|233,322,40|233,955,40|233,955,40|233,312,40|233,364,40|233,359,40|233,271,40|233,341,40|233,955,40|233,888,40|233,274,40|233,398,40|233,357,40|233,291,40|233,541,40|233,955,40|233,662,40|233,255,40|233,402,40|233,302,40|233,282,40|233,833,40|233,955,40|233,415,40|233,325,40|233,395,40|233,295,40|233,336,40|232,955,40|233,910,40|233,290,40|233,406,40|233,372,40|233,285,40|233,521,40|233,955,40|233,703,40|233,307,40|233,440,40|233,335,40|233,311,40|233,903,40|233,955,40|233,469,40|233,341,40|233,397,40|233,293,40|233,313,40|233,955,40|233,955,40|233,386,40|233,343,40|233,382,40|233,284,40|233,306,40|233,955,40|233,955,40|233,359,40|233,359,40|233,376,40|233,283,40|233,342,40|233,955,40|233,955,40|233,301,40|233,380,40|233,349,40|233,278,40|233,387,40|233,955,40|233,955,40|233,270,40|233,384,40|233,330,40|233,262,40|233,367,40|233,955,40|233,955,40|233,266,39|233,370,40|233,337,39|233,269,39|233,339,39|233,955,40|233,931,39|233,278,39|233,388,39|233,349,39|233,285,39|233,443,39|233,955,39|233,785,39|233,247,39|233,410,39|233,329,39|233,287,39|233,562,39|233,955,39|233,659,39|233,264,39|233,416,39|233,320,39|233,288,39|233,613,39|233,955,39|233,564,39|233,284,39|233,425,39|233,318,39|233,303,39|233,855,39|233,955,39|233,388,39|233,373,39|233,413,39|233,317,39|233,396,39|233,955,39|233,871,39|233,283,39|233,410,39|233,359,39|233,290,39|233,584,39|233,955,39|233,710,39|233,276,39|233,420,39|233,328,39|233,294,39|233,954,39|233,955,39|233,419,39|233,344,39|233,398,39|233,291,39|233,460,39|233,955,39|233,928,39|233,261,39|233,414,39|233,326,39|233,278,39|233,951,39|233,955,39|233,528,39|233,293,39|233,380,39|233,272,39|233,326,39|233,955,39|233,955,39|233,319,39|233,342,39|233,344,39|233,244,39|233,348,39|233,955,39|233,955,39|233,273,39|233,365,39|233,339,39|233,256,39|233,516,39|233,955,39|233,955,39|233,250,39|233,399,38|233,299,38|233,263,38|233,798,39|233,955,39|233,749,38|233,240,38|233,387,38|233,271,38|233,257,38|233,936,38|233,955,38|233,626,38|233,231,38|233,363,38|233,242,38|233,252,38|233,955,38|233,955,38|233,526,38|233,263,38|233,365,38|233,249,38|233,313,38|233,955,38|233,955,38|233,350,38|233,303,38|233,325,38|233,227,38|233,424,38|233,955,38|233,955,38|233,226,38|233,332,38|233,299,38|233,223,38|233,671,38|233,955,38|233,832,38|233,164,38|233,361,38|233,269,38|233,238,38|233,954,38|233,955,38|233,448,38|233,273,38|233,385,38|233,277,38|233,379,38|233,955,38|233,955,38|233,238,38|233,361,38|233,327,38|233,249,38|233,663,38|233,955,38|233,854,38|233,196,38|233,376,38|233,285,38|233,250,38|233,939,38|233,955,38|233,494,38|233,262,38|233,381,38|233,260,38|233,398,38|233,955,38|233,955,38|233,231,38|233,382,38|233,314,38|233,255,38|233,955,38|233,955,38|233,637,38|233,220,38|233,365,38|233,247,38|233,333,38|233,955,38|233,955,38|232,216,38|232,313,38|232,301,38|232,258,38|232,687,38|232,955,38|233,661,38|233,208,38|233,374,38|233,277,38|233,276,38|233,955,38|233,955,38|233,397,38|233,302,38|233,331,38|233,244,38|233,332,38|233,955,38|233,955,38|233,291,38|233,330,38|233,319,38|233,235,38|233,386,38|233,955,38|233,955,38|233,241,38|233,375,38|233,307,38|233,254,37|233,586,38|233,955,38|233,739,38|233,260,37|233,402,37|233,301,37|233,275,37|233,955,38|233,955,37|233,387,37|233,318,37|233,358,37|233,258,37|233,328,37|233,955,37|233,955,37|233,270,37|233,354,37|233,321,37|233,247,37|233,496,37|233,955,37|233,772,37|233,250,37|233,397,37|233,301,37|233,277,37|233,955,37|233,955,37|233,434,37|233,300,37|233,360,37|233,271,37|233,455,37|233,955,37|233,955,37|233,213,37|233,350,37|233,301,37|233,245,37|233,822,37|233,955,37|233,533,37|233,235,37|233,353,37|233,256,37|233,296,37|233,955,37|233,955,37|233,258,37|233,367,37|233,329,37|233,255,37|233,718,37|233,955,37|233,550,37|233,277,37|233,383,37|233,281,37|233,325,37|233,955,37|233,955,37|233,277,37|233,365,37|233,338,37|233,261,37|233,623,37\n"
     ]
    }
   ],
   "source": [
    "# get data\n",
    "r = requests.get(URL + 'data')\n",
    "print(r.status_code)\n",
    "print(r.text)"
   ]
  },
  {
   "cell_type": "code",
   "execution_count": 38,
   "metadata": {},
   "outputs": [
    {
     "name": "stdout",
     "output_type": "stream",
     "text": [
      "500\n",
      "<!DOCTYPE html>\n",
      "<html lang=\"en\">\n",
      "    <head>\n",
      "        <title>Unexpected exception</title>\n",
      "        <link rel=\"shortcut icon\" href=\"data:image/png;base64,iVBORw0KGgoAAAANSUhEUgAAABAAAAAQCAYAAAAf8/9hAAAAGXRFWHRTb2Z0d2FyZQBBZG9iZSBJbWFnZVJlYWR5ccllPAAAAlFJREFUeNqUU8tOFEEUPVVdNV3dPe8xYRBnjGhmBgKjKzCIiQvBoIaNbly5Z+PSv3Aj7DSiP2B0rwkLGVdGgxITSCRIJGSMEQWZR3eVt5sEFBgTb/dN1yvnnHtPNTPG4PqdHgCMXnPRSZrpSuH8vUJu4DE4rYHDGAZDX62BZttHqTiIayM3gGiXQsgYLEvATaqxU+dy1U13YXapXptpNHY8iwn8KyIAzm1KBdtRZWErpI5lEWTXp5Z/vHpZ3/wyKKwYGGOdAYwR0EZwoezTYApBEIObyELl/aE1/83cp40Pt5mxqCKrE4Ck+mVWKKcI5tA8BLEhRBKJLjez6a7MLq7XZtp+yyOawwCBtkiBVZDKzRk4NN7NQBMYPHiZDFhXY+p9ff7F961vVcnl4R5I2ykJ5XFN7Ab7Gc61VoipNBKF+PDyztu5lfrSLT/wIwCxq0CAGtXHZTzqR2jtwQiXONma6hHpj9sLT7YaPxfTXuZdBGA02Wi7FS48YiTfj+i2NhqtdhP5RC8mh2/Op7y0v6eAcWVLFT8D7kWX5S9mepp+C450MV6aWL1cGnvkxbwHtLW2B9AOkLeUd9KEDuh9fl/7CEj7YH5g+3r/lWfF9In7tPz6T4IIwBJOr1SJyIGQMZQbsh5P9uBq5VJtqHh2mo49pdw5WFoEwKWqWHacaWOjQXWGcifKo6vj5RGS6zykI587XeUIQDqJSmAp+lE4qt19W5P9o8+Lma5DcjsC8JiT607lMVkdqQ0Vyh3lHhmh52tfNy78ajXv0rgYzv8nfwswANuk+7sD/Q0aAAAAAElFTkSuQmCC\">\n",
      "        <style>\n",
      "            html, body, pre {\n",
      "                margin: 0;\n",
      "                padding: 0;\n",
      "                font-family: Monaco, 'Lucida Console', monospace;\n",
      "                background: #ECECEC;\n",
      "            }\n",
      "            h1 {\n",
      "                margin: 0;\n",
      "                background: #A31012;\n",
      "                padding: 20px 45px;\n",
      "                color: #fff;\n",
      "                text-shadow: 1px 1px 1px rgba(0,0,0,.3);\n",
      "                border-bottom: 1px solid #690000;\n",
      "                font-size: 28px;\n",
      "            }\n",
      "            a {\n",
      "                color: #D36D6D;\n",
      "            }\n",
      "            p#detail {\n",
      "                margin: 0;\n",
      "                padding: 15px 45px;\n",
      "                background: #F5A0A0;\n",
      "                border-top: 4px solid #D36D6D;\n",
      "                color: #730000;\n",
      "                text-shadow: 1px 1px 1px rgba(255,255,255,.3);\n",
      "                font-size: 14px;\n",
      "                border-bottom: 1px solid #BA7A7A;\n",
      "            }\n",
      "            p#detail.pre {\n",
      "                white-space: pre;\n",
      "                font-size: 13px;\n",
      "                overflow: auto;\n",
      "            }\n",
      "            p#detail input {\n",
      "                background: #AE1113;\n",
      "                background: -webkit-linear-gradient(#AE1113, #A31012);\n",
      "                background: -o-linear-gradient(#AE1113, #A31012);\n",
      "                background: -moz-linear-gradient(#AE1113, #A31012);\n",
      "                background: linear-gradient(#AE1113, #A31012);\n",
      "                border: 1px solid #790000;\n",
      "                padding: 3px 10px;\n",
      "                text-shadow: 1px 1px 0 rgba(0, 0, 0, .5);\n",
      "                color: white;\n",
      "                border-radius: 3px;\n",
      "                cursor: pointer;\n",
      "                font-family: Monaco, 'Lucida Console';\n",
      "                font-size: 12px;\n",
      "                margin: 0 10px;\n",
      "                display: inline-block;\n",
      "                position: relative;\n",
      "                top: -1px;\n",
      "            }\n",
      "            h2 {\n",
      "                margin: 0;\n",
      "                padding: 5px 45px;\n",
      "                font-size: 12px;\n",
      "                background: #333;\n",
      "                color: #fff;\n",
      "                text-shadow: 1px 1px 1px rgba(0,0,0,.3);\n",
      "                border-top: 4px solid #2a2a2a;\n",
      "            }\n",
      "            pre {\n",
      "                margin: 0;\n",
      "                border-bottom: 1px solid #DDD;\n",
      "                text-shadow: 1px 1px 1px rgba(255,255,255,.5);\n",
      "                position: relative;\n",
      "                font-size: 12px;\n",
      "            }\n",
      "            pre span.line {\n",
      "                text-align: right;\n",
      "                display: inline-block;\n",
      "                padding: 5px 5px;\n",
      "                width: 30px;\n",
      "                background: #D6D6D6;\n",
      "                color: #8B8B8B;\n",
      "                text-shadow: 1px 1px 1px rgba(255,255,255,.5);\n",
      "                font-weight: bold;\n",
      "            }\n",
      "            pre span.code {\n",
      "                padding: 5px 5px;\n",
      "                position: absolute;\n",
      "                right: 0;\n",
      "                left: 40px;\n",
      "            }\n",
      "            pre:first-child span.code {\n",
      "                border-top: 4px solid #CDCDCD;\n",
      "            }\n",
      "            pre:first-child span.line {\n",
      "                border-top: 4px solid #B6B6B6;\n",
      "            }\n",
      "            pre.error span.line {\n",
      "                background: #A31012;\n",
      "                color: #fff;\n",
      "                text-shadow: 1px 1px 1px rgba(0,0,0,.3);\n",
      "            }\n",
      "            pre.error {\n",
      "                color: #A31012;\n",
      "            }\n",
      "            pre.error span.marker {\n",
      "                background: #A31012;\n",
      "                color: #fff;\n",
      "                text-shadow: 1px 1px 1px rgba(0,0,0,.3);\n",
      "            }\n",
      "        </style>\n",
      "    </head>\n",
      "    <body id=\"play-error-page\">\n",
      "        <h1>Unexpected exception</h1>\n",
      "\n",
      "        \n",
      "                <p id=\"detail\" class=\"pre\">CreationException: Unable to create injector, see the following errors:\n",
      "\n",
      "1) Could not find a suitable constructor in akka.util.Timeout. Classes must have either one (and only one) constructor annotated with @Inject or a zero-argument constructor that is not private.\n",
      "  at akka.util.Timeout.class(Timeout.scala:13)\n",
      "  while locating akka.util.Timeout\n",
      "    for the 6th parameter of org.openlaw.identity.services.UserServiceImpl.&lt;init&gt;(UserService.scala:53)\n",
      "  at Module.configure(Module.scala:17) (via modules: com.google.inject.util.Modules$OverrideModule -&gt; Module)\n",
      "\n",
      "1 error</p>\n",
      "            \n",
      "\n",
      "        \n",
      "\n",
      "                <h2>\n",
      "                    No source available, here is the exception stack trace:\n",
      "                </h2>\n",
      "\n",
      "                <div>\n",
      "\n",
      "                    <pre class=\"error\"><span class=\"line\">-></span><span class=\"code\">com.google.inject.CreationException: Unable to create injector, see the following errors:\n",
      "\n",
      "1) Could not find a suitable constructor in akka.util.Timeout. Classes must have either one (and only one) constructor annotated with @Inject or a zero-argument constructor that is not private.\n",
      "  at akka.util.Timeout.class(Timeout.scala:13)\n",
      "  while locating akka.util.Timeout\n",
      "    for the 6th parameter of org.openlaw.identity.services.UserServiceImpl.&lt;init&gt;(UserService.scala:53)\n",
      "  at Module.configure(Module.scala:17) (via modules: com.google.inject.util.Modules$OverrideModule -&gt; Module)\n",
      "\n",
      "1 error</span></pre>\n",
      "\n",
      "                    \n",
      "                        <pre><span class=\"line\">&nbsp;</span><span class=\"code\">    com.google.inject.internal.Errors.throwCreationExceptionIfErrorsExist(Errors.java:543)</span></pre>\n",
      "                    \n",
      "                        <pre><span class=\"line\">&nbsp;</span><span class=\"code\">    com.google.inject.internal.InternalInjectorCreator.initializeStatically(InternalInjectorCreator.java:159)</span></pre>\n",
      "                    \n",
      "                        <pre><span class=\"line\">&nbsp;</span><span class=\"code\">    com.google.inject.internal.InternalInjectorCreator.build(InternalInjectorCreator.java:106)</span></pre>\n",
      "                    \n",
      "                        <pre><span class=\"line\">&nbsp;</span><span class=\"code\">    com.google.inject.Guice.createInjector(Guice.java:87)</span></pre>\n",
      "                    \n",
      "                        <pre><span class=\"line\">&nbsp;</span><span class=\"code\">    com.google.inject.Guice.createInjector(Guice.java:78)</span></pre>\n",
      "                    \n",
      "                        <pre><span class=\"line\">&nbsp;</span><span class=\"code\">    play.api.inject.guice.GuiceBuilder.injector(GuiceInjectorBuilder.scala:185)</span></pre>\n",
      "                    \n",
      "                        <pre><span class=\"line\">&nbsp;</span><span class=\"code\">    play.api.inject.guice.GuiceApplicationBuilder.build(GuiceApplicationBuilder.scala:137)</span></pre>\n",
      "                    \n",
      "                        <pre><span class=\"line\">&nbsp;</span><span class=\"code\">    play.api.inject.guice.GuiceApplicationLoader.load(GuiceApplicationLoader.scala:21)</span></pre>\n",
      "                    \n",
      "                        <pre><span class=\"line\">&nbsp;</span><span class=\"code\">    play.core.server.DevServerStart$$anon$1.$anonfun$reload$3(DevServerStart.scala:174)</span></pre>\n",
      "                    \n",
      "                        <pre><span class=\"line\">&nbsp;</span><span class=\"code\">    play.utils.Threads$.withContextClassLoader(Threads.scala:21)</span></pre>\n",
      "                    \n",
      "                        <pre><span class=\"line\">&nbsp;</span><span class=\"code\">    play.core.server.DevServerStart$$anon$1.reload(DevServerStart.scala:171)</span></pre>\n",
      "                    \n",
      "                        <pre><span class=\"line\">&nbsp;</span><span class=\"code\">    play.core.server.DevServerStart$$anon$1.get(DevServerStart.scala:124)</span></pre>\n",
      "                    \n",
      "                        <pre><span class=\"line\">&nbsp;</span><span class=\"code\">    play.core.server.AkkaHttpServer.handleRequest(AkkaHttpServer.scala:241)</span></pre>\n",
      "                    \n",
      "                        <pre><span class=\"line\">&nbsp;</span><span class=\"code\">    play.core.server.AkkaHttpServer.$anonfun$createServerBinding$1(AkkaHttpServer.scala:138)</span></pre>\n",
      "                    \n",
      "                        <pre><span class=\"line\">&nbsp;</span><span class=\"code\">    akka.stream.impl.fusing.MapAsyncUnordered$$anon$26.onPush(Ops.scala:1304)</span></pre>\n",
      "                    \n",
      "                        <pre><span class=\"line\">&nbsp;</span><span class=\"code\">    akka.stream.impl.fusing.GraphInterpreter.processPush(GraphInterpreter.scala:519)</span></pre>\n",
      "                    \n",
      "                        <pre><span class=\"line\">&nbsp;</span><span class=\"code\">    akka.stream.impl.fusing.GraphInterpreter.processEvent(GraphInterpreter.scala:482)</span></pre>\n",
      "                    \n",
      "                        <pre><span class=\"line\">&nbsp;</span><span class=\"code\">    akka.stream.impl.fusing.GraphInterpreter.execute(GraphInterpreter.scala:378)</span></pre>\n",
      "                    \n",
      "                        <pre><span class=\"line\">&nbsp;</span><span class=\"code\">    akka.stream.impl.fusing.GraphInterpreterShell.runBatch(ActorGraphInterpreter.scala:588)</span></pre>\n",
      "                    \n",
      "                        <pre><span class=\"line\">&nbsp;</span><span class=\"code\">    akka.stream.impl.fusing.GraphInterpreterShell$AsyncInput.execute(ActorGraphInterpreter.scala:472)</span></pre>\n",
      "                    \n",
      "                        <pre><span class=\"line\">&nbsp;</span><span class=\"code\">    akka.stream.impl.fusing.GraphInterpreterShell.processEvent(ActorGraphInterpreter.scala:563)</span></pre>\n",
      "                    \n",
      "                        <pre><span class=\"line\">&nbsp;</span><span class=\"code\">    akka.stream.impl.fusing.ActorGraphInterpreter.akka$stream$impl$fusing$ActorGraphInterpreter$$processEvent(ActorGraphInterpreter.scala:745)</span></pre>\n",
      "                    \n",
      "                        <pre><span class=\"line\">&nbsp;</span><span class=\"code\">    akka.stream.impl.fusing.ActorGraphInterpreter$$anonfun$receive$1.applyOrElse(ActorGraphInterpreter.scala:760)</span></pre>\n",
      "                    \n",
      "                        <pre><span class=\"line\">&nbsp;</span><span class=\"code\">    akka.actor.Actor.aroundReceive(Actor.scala:517)</span></pre>\n",
      "                    \n",
      "                        <pre><span class=\"line\">&nbsp;</span><span class=\"code\">    akka.actor.Actor.aroundReceive$(Actor.scala:515)</span></pre>\n",
      "                    \n",
      "                        <pre><span class=\"line\">&nbsp;</span><span class=\"code\">    akka.stream.impl.fusing.ActorGraphInterpreter.aroundReceive(ActorGraphInterpreter.scala:670)</span></pre>\n",
      "                    \n",
      "                        <pre><span class=\"line\">&nbsp;</span><span class=\"code\">    akka.actor.ActorCell.receiveMessage(ActorCell.scala:588)</span></pre>\n",
      "                    \n",
      "                        <pre><span class=\"line\">&nbsp;</span><span class=\"code\">    akka.actor.ActorCell.invoke(ActorCell.scala:557)</span></pre>\n",
      "                    \n",
      "                        <pre><span class=\"line\">&nbsp;</span><span class=\"code\">    akka.dispatch.Mailbox.processMailbox(Mailbox.scala:258)</span></pre>\n",
      "                    \n",
      "                        <pre><span class=\"line\">&nbsp;</span><span class=\"code\">    akka.dispatch.Mailbox.run(Mailbox.scala:225)</span></pre>\n",
      "                    \n",
      "                        <pre><span class=\"line\">&nbsp;</span><span class=\"code\">    akka.dispatch.Mailbox.exec(Mailbox.scala:235)</span></pre>\n",
      "                    \n",
      "                        <pre><span class=\"line\">&nbsp;</span><span class=\"code\">    akka.dispatch.forkjoin.ForkJoinTask.doExec(ForkJoinTask.java:260)</span></pre>\n",
      "                    \n",
      "                        <pre><span class=\"line\">&nbsp;</span><span class=\"code\">    akka.dispatch.forkjoin.ForkJoinPool$WorkQueue.runTask(ForkJoinPool.java:1339)</span></pre>\n",
      "                    \n",
      "                        <pre><span class=\"line\">&nbsp;</span><span class=\"code\">    akka.dispatch.forkjoin.ForkJoinPool.runWorker(ForkJoinPool.java:1979)</span></pre>\n",
      "                    \n",
      "                        <pre><span class=\"line\">&nbsp;</span><span class=\"code\">    akka.dispatch.forkjoin.ForkJoinWorkerThread.run(ForkJoinWorkerThread.java:107)</span></pre>\n",
      "                    \n",
      "                </div>\n",
      "\n",
      "            \n",
      "\n",
      "    </body>\n",
      "</html>\n",
      "\n"
     ]
    }
   ],
   "source": [
    "import requests\n",
    "\n",
    "URL = 'http://localhost:9000/'\n",
    "r = requests.get(URL + 'v1/identity/ping')\n",
    "print(r.status_code)\n",
    "print(r.text)"
   ]
  },
  {
   "cell_type": "code",
   "execution_count": null,
   "metadata": {},
   "outputs": [],
   "source": []
  }
 ],
 "metadata": {
  "kernelspec": {
   "display_name": "Python 3",
   "language": "python",
   "name": "python3"
  },
  "language_info": {
   "codemirror_mode": {
    "name": "ipython",
    "version": 3
   },
   "file_extension": ".py",
   "mimetype": "text/x-python",
   "name": "python",
   "nbconvert_exporter": "python",
   "pygments_lexer": "ipython3",
   "version": "3.5.2"
  }
 },
 "nbformat": 4,
 "nbformat_minor": 2
}
